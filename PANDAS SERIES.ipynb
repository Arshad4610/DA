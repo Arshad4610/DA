{
 "cells": [
  {
   "cell_type": "code",
   "execution_count": null,
   "id": "1136ee19",
   "metadata": {},
   "outputs": [],
   "source": [
    "# df list of list->"
   ]
  },
  {
   "cell_type": "code",
   "execution_count": 2,
   "id": "37e61f1e",
   "metadata": {},
   "outputs": [
    {
     "name": "stdout",
     "output_type": "stream",
     "text": [
      "  name  rating\n",
      "0  raw      10\n",
      "1  war     100\n"
     ]
    }
   ],
   "source": [
    "import pandas as pd\n",
    "d=[[\"raw\",10],[\"war\",100]]\n",
    "df=pd.DataFrame(d,columns=[\"name\",\"rating\"])\n",
    "print(df)"
   ]
  },
  {
   "cell_type": "code",
   "execution_count": 3,
   "id": "d86f8514",
   "metadata": {},
   "outputs": [],
   "source": [
    "# df dic of list->"
   ]
  },
  {
   "cell_type": "code",
   "execution_count": 4,
   "id": "0e880e45",
   "metadata": {},
   "outputs": [
    {
     "name": "stdout",
     "output_type": "stream",
     "text": [
      "    car  price\n",
      "0  merc   1000\n",
      "1   bmw   2000\n",
      "2    rr   3000\n"
     ]
    }
   ],
   "source": [
    "data={\n",
    "    \"car\"  : [\"merc\",\"bmw\",\"rr\"],\n",
    "    \"price\": [1000,2000,3000]\n",
    "}\n",
    "print(pd.DataFrame(data))"
   ]
  },
  {
   "cell_type": "code",
   "execution_count": 5,
   "id": "f94f2888",
   "metadata": {},
   "outputs": [
    {
     "name": "stdout",
     "output_type": "stream",
     "text": [
      "r1    war\n",
      "r2    tar\n",
      "dtype: object\n"
     ]
    }
   ],
   "source": [
    "d=pd.Series([\"war\",\"tar\"],index=[\"r1\",\"r2\"])\n",
    "print(d)"
   ]
  },
  {
   "cell_type": "code",
   "execution_count": 6,
   "id": "1389e057",
   "metadata": {},
   "outputs": [
    {
     "name": "stdout",
     "output_type": "stream",
     "text": [
      "a1    1\n",
      "a2    2\n",
      "a3    3\n",
      "dtype: int32\n"
     ]
    }
   ],
   "source": [
    "import numpy as np\n",
    "a=np.array([1,2,3])\n",
    "b=pd.Series(a,index=(\"a1\",\"a2\",\"a3\"))\n",
    "print(b)"
   ]
  },
  {
   "cell_type": "code",
   "execution_count": 7,
   "id": "29809846",
   "metadata": {},
   "outputs": [
    {
     "name": "stdout",
     "output_type": "stream",
     "text": [
      "1 2 3\n"
     ]
    }
   ],
   "source": [
    "print(b[\"a1\"],b[\"a2\"],b[2])"
   ]
  },
  {
   "cell_type": "code",
   "execution_count": 8,
   "id": "bb18147e",
   "metadata": {},
   "outputs": [
    {
     "name": "stdout",
     "output_type": "stream",
     "text": [
      "r1    war\n",
      "r2    tar\n",
      "dtype: object\n"
     ]
    }
   ],
   "source": [
    "print(d[\"r1\":\"r2\"])"
   ]
  },
  {
   "cell_type": "code",
   "execution_count": 9,
   "id": "92904d2f",
   "metadata": {},
   "outputs": [
    {
     "name": "stdout",
     "output_type": "stream",
     "text": [
      "0    10\n",
      "1    20\n",
      "2    30\n",
      "Name: Data Analysis, dtype: int32 \n",
      "\n",
      "\n",
      " naturals\n",
      "0    10\n",
      "1    20\n",
      "2    30\n",
      "Name: Data Analysis, dtype: int32\n",
      "[10 20 30]\n",
      "RangeIndex(start=0, stop=3, step=1, name=' naturals')\n",
      "3\n",
      "False\n"
     ]
    }
   ],
   "source": [
    "a=np.array([10,20,30])\n",
    "s=pd.Series(a)\n",
    "s.name='Data Analysis'\n",
    "print(s,'\\n\\n')\n",
    "\n",
    "s.index.name=' naturals'\n",
    "print(s)\n",
    "\n",
    "print(s.values)\n",
    "print(s.index)\n",
    "print(s.size)\n",
    "print(s.empty)"
   ]
  },
  {
   "cell_type": "code",
   "execution_count": 14,
   "id": "f1c4cafa",
   "metadata": {},
   "outputs": [
    {
     "name": "stdout",
     "output_type": "stream",
     "text": [
      "0    10\n",
      "1    20\n",
      "2    30\n",
      "3    40\n",
      "4    50\n",
      "dtype: int32\n",
      "2    30\n",
      "3    40\n",
      "4    50\n",
      "5    60\n",
      "6    70\n",
      "dtype: int32\n",
      "7\n",
      "0    10\n",
      "1    20\n",
      "2    30\n",
      "dtype: int32\n"
     ]
    }
   ],
   "source": [
    "a=np.array([10,20,30,40,50,60,70])\n",
    "s=pd.Series(a)\n",
    "print(s.head())\n",
    "print(s.tail())\n",
    "print(s.count())\n",
    "print(s.head(3))"
   ]
  },
  {
   "cell_type": "code",
   "execution_count": 16,
   "id": "91bf9307",
   "metadata": {},
   "outputs": [
    {
     "name": "stdout",
     "output_type": "stream",
     "text": [
      "a     -9.0\n",
      "b      NaN\n",
      "c    -47.0\n",
      "d      NaN\n",
      "e    105.0\n",
      "y      NaN\n",
      "z      NaN\n",
      "dtype: float64\n"
     ]
    }
   ],
   "source": [
    "s1= pd.Series([1,2,3,4,5], index = ['a', 'b', 'c', 'd', 'e'])\n",
    "s2 = pd.Series([10,20,-10,-50,100],index = ['z', 'y', 'a', 'c', 'e'])\n",
    "print(s1+s2)"
   ]
  },
  {
   "cell_type": "code",
   "execution_count": 21,
   "id": "98ad1ebc",
   "metadata": {},
   "outputs": [
    {
     "name": "stdout",
     "output_type": "stream",
     "text": [
      "Index(['  jack', 'jill   ', 'jesse   ', '   frank'], dtype='object')\n",
      "strip:  Index(['jack', 'jill', 'jesse', 'frank'], dtype='object')\n",
      "ri8 strip:  Index(['  jack', 'jill', 'jesse', '   frank'], dtype='object')\n",
      "left strip:  Index(['jack', 'jill   ', 'jesse   ', 'frank'], dtype='object')\n"
     ]
    }
   ],
   "source": [
    "idx=pd.Index([\"  jack\",\"jill   \",\"jesse   \",\"   frank\"])\n",
    "print(idx)\n",
    "print(\"strip: \",idx.str.strip())\n",
    "print(\"ri8 strip: \",idx.str.rstrip())\n",
    "print(\"left strip: \",idx.str.lstrip())"
   ]
  },
  {
   "cell_type": "code",
   "execution_count": 18,
   "id": "aa29dd08",
   "metadata": {},
   "outputs": [
    {
     "name": "stdout",
     "output_type": "stream",
     "text": [
      "0       a\n",
      "1       b\n",
      "2       c\n",
      "3    aaba\n",
      "4    baca\n",
      "5    <NA>\n",
      "6    caba\n",
      "7     dog\n",
      "8     cat\n",
      "dtype: string\n",
      "0       A\n",
      "1       B\n",
      "2       C\n",
      "3    AABA\n",
      "4    BACA\n",
      "5    <NA>\n",
      "6    CABA\n",
      "7     DOG\n",
      "8     CAT\n",
      "dtype: string\n",
      "0       1\n",
      "1       1\n",
      "2       1\n",
      "3       4\n",
      "4       4\n",
      "5    <NA>\n",
      "6       4\n",
      "7       3\n",
      "8       3\n",
      "dtype: Int64\n"
     ]
    }
   ],
   "source": [
    "s = pd.Series([\"A\", \"B\",\n",
    "    \"C\", \"Aaba\", \"Baca\", np.nan, \"CABA\", \"dog\", \"cat\"], dtype=\"string\")\n",
    "print(s.str.lower())\n",
    "print(s.str.upper())\n",
    "print(s.str.len())"
   ]
  },
  {
   "cell_type": "code",
   "execution_count": 25,
   "id": "07a0f792",
   "metadata": {},
   "outputs": [
    {
     "name": "stdout",
     "output_type": "stream",
     "text": [
      "a,b,c,d\n",
      "abcd\n",
      "0    aA\n",
      "1    bB\n",
      "2    cC\n",
      "3    dD\n",
      "dtype: string\n"
     ]
    }
   ],
   "source": [
    "s = pd.Series([\"a\", \"b\", \"c\", \"d\"],dtype=\"string\")\n",
    "print(s.str.cat(sep=\",\"))\n",
    "print(s.str.cat())\n",
    "print(s.str.cat([\"A\", \"B\", \"C\", \"D\"]))\n"
   ]
  },
  {
   "cell_type": "code",
   "execution_count": 36,
   "id": "3fa6d5b6",
   "metadata": {},
   "outputs": [
    {
     "name": "stdout",
     "output_type": "stream",
     "text": [
      "1\n",
      "<bound method Series.memory_usage of 0    10\n",
      "1    20\n",
      "2    30\n",
      "3    10\n",
      "4    20\n",
      "dtype: int64>\n",
      "None\n",
      "<bound method IndexOpsMixin.item of 0    10\n",
      "1    20\n",
      "2    30\n",
      "3    10\n",
      "4    20\n",
      "dtype: int64>\n",
      "<Flags(allows_duplicate_labels=True)>\n"
     ]
    }
   ],
   "source": [
    "s=pd.Series([10,20,30])\n",
    "print(s.ndim)\n",
    "print(s.memory_usage)\n",
    "print(s.name)\n",
    "print(s.item)\n",
    "print(s.flags)"
   ]
  },
  {
   "cell_type": "code",
   "execution_count": null,
   "id": "3e18572e",
   "metadata": {},
   "outputs": [],
   "source": []
  }
 ],
 "metadata": {
  "kernelspec": {
   "display_name": "Python 3 (ipykernel)",
   "language": "python",
   "name": "python3"
  },
  "language_info": {
   "codemirror_mode": {
    "name": "ipython",
    "version": 3
   },
   "file_extension": ".py",
   "mimetype": "text/x-python",
   "name": "python",
   "nbconvert_exporter": "python",
   "pygments_lexer": "ipython3",
   "version": "3.11.3"
  }
 },
 "nbformat": 4,
 "nbformat_minor": 5
}
